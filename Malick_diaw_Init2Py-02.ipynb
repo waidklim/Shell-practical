{
 "cells": [
  {
   "cell_type": "markdown",
   "metadata": {},
   "source": [
    "## Init2Py-02 – Functions & Recursions"
   ]
  },
  {
   "cell_type": "markdown",
   "metadata": {},
   "source": [
    "1. Write a python script that asks the user for the values of x and y and uses these inputs to\n",
    "compute the numerical value of the expression\n",
    "p\n",
    "x2+y\n",
    "1\n",
    "x + 2 sin y\n",
    ":"
   ]
  },
  {
   "cell_type": "code",
   "execution_count": 3,
   "metadata": {},
   "outputs": [
    {
     "name": "stdout",
     "output_type": "stream",
     "text": [
      "donner x\n",
      "4\n",
      "donner y\n",
      "4\n",
      "-3.539188265487894\n"
     ]
    }
   ],
   "source": [
    "from math import sqrt\n",
    "from math import sin\n",
    "print('donner x')\n",
    "x=input()\n",
    "x=float(x)\n",
    "print('donner y')\n",
    "y=input()\n",
    "y=float(y)\n",
    "f=sqrt(x**2+y)/(1/x+2*sin(y))\n",
    "print(f)"
   ]
  },
  {
   "cell_type": "markdown",
   "metadata": {},
   "source": [
    "2. Write a function that given two integers b and n (n is positive), calculates bn without using\n",
    "python’s power operator."
   ]
  },
  {
   "cell_type": "code",
   "execution_count": 5,
   "metadata": {},
   "outputs": [],
   "source": [
    "def ownpowerfn(b,n):\n",
    "    b=int(b)\n",
    "    n=int(n)\n",
    "    v=1\n",
    "    for i in range(n):\n",
    "        v=v*b\n",
    "    print(v)    "
   ]
  },
  {
   "cell_type": "code",
   "execution_count": 6,
   "metadata": {},
   "outputs": [
    {
     "name": "stdout",
     "output_type": "stream",
     "text": [
      "1024\n"
     ]
    }
   ],
   "source": [
    "ownpowerfn(4,5)"
   ]
  },
  {
   "cell_type": "markdown",
   "metadata": {},
   "source": [
    "3. Write functions that do the following:"
   ]
  },
  {
   "cell_type": "markdown",
   "metadata": {},
   "source": [
    "a) Takes two arguments, and computes their arithmetic and geometric means. Name\n",
    "these functions arithmetic_mean and geometric_mean respectively."
   ]
  },
  {
   "cell_type": "code",
   "execution_count": 18,
   "metadata": {},
   "outputs": [],
   "source": [
    "from statistics import geometric_mean\n",
    "def Geometric_mean(a,b):\n",
    "    a = float(a)\n",
    "    b = float(b)\n",
    "    l=[a,b]\n",
    "    print(geometric_mean(l))\n",
    "   "
   ]
  },
  {
   "cell_type": "code",
   "execution_count": 19,
   "metadata": {},
   "outputs": [
    {
     "name": "stdout",
     "output_type": "stream",
     "text": [
      "4.0\n"
     ]
    }
   ],
   "source": [
    "Geometric_mean(4,4)"
   ]
  },
  {
   "cell_type": "code",
   "execution_count": 13,
   "metadata": {},
   "outputs": [],
   "source": [
    "from statistics import mean\n",
    "def arithmetic_mean(a,b):\n",
    "    a=float(a)\n",
    "    b=float(b)\n",
    "    l=[a,b]\n",
    "    print(mean(l))"
   ]
  },
  {
   "cell_type": "code",
   "execution_count": 11,
   "metadata": {},
   "outputs": [
    {
     "name": "stdout",
     "output_type": "stream",
     "text": [
      "4.0\n"
     ]
    }
   ],
   "source": [
    "arithmetic_mean(4,4)"
   ]
  },
  {
   "cell_type": "markdown",
   "metadata": {},
   "source": [
    "b) Converts degree Celsius to Fahrenheit and vice versa. Name these two functions celcius_to_fahrenheit and fahrenheit_to_celcius respectively."
   ]
  },
  {
   "cell_type": "code",
   "execution_count": 23,
   "metadata": {},
   "outputs": [],
   "source": [
    "def celcius_to_fahrenheit(c):\n",
    "    c = float(c)\n",
    "    F = (9/5)*c +32 \n",
    "    print(F)\n",
    "def fahrenheit_to_celcius(f):\n",
    "    f = float(f)\n",
    "    c = (f-32)/(9/5)\n",
    "    print(c) "
   ]
  },
  {
   "cell_type": "code",
   "execution_count": 24,
   "metadata": {},
   "outputs": [
    {
     "name": "stdout",
     "output_type": "stream",
     "text": [
      "41.0\n"
     ]
    }
   ],
   "source": [
    "celcius_to_fahrenheit(5)"
   ]
  },
  {
   "cell_type": "code",
   "execution_count": 25,
   "metadata": {},
   "outputs": [
    {
     "name": "stdout",
     "output_type": "stream",
     "text": [
      "5.0\n"
     ]
    }
   ],
   "source": [
    "fahrenheit_to_celcius(41)"
   ]
  },
  {
   "cell_type": "code",
   "execution_count": null,
   "metadata": {},
   "outputs": [],
   "source": [
    "c) Converts angle in degrees to radians and vice versa. Name these two functions degrees_to_radians and radians_to_degrees respectively."
   ]
  },
  {
   "cell_type": "code",
   "execution_count": 27,
   "metadata": {},
   "outputs": [],
   "source": [
    "from math import pi\n",
    "def degrees_to_radians(c):\n",
    "    c = float(c)\n",
    "    r =  (180*c)/pi\n",
    "    print(r)\n",
    "def radians_to_degrees(r):\n",
    "    r = float(r)\n",
    "    c = (r*pi)/180\n",
    "    print(c)"
   ]
  },
  {
   "cell_type": "code",
   "execution_count": 28,
   "metadata": {},
   "outputs": [
    {
     "name": "stdout",
     "output_type": "stream",
     "text": [
      "286.4788975654116\n"
     ]
    }
   ],
   "source": [
    "degrees_to_radians(5)"
   ]
  },
  {
   "cell_type": "code",
   "execution_count": 29,
   "metadata": {},
   "outputs": [
    {
     "name": "stdout",
     "output_type": "stream",
     "text": [
      "0.10471975511965977\n"
     ]
    }
   ],
   "source": [
    "radians_to_degrees(6)"
   ]
  },
  {
   "cell_type": "markdown",
   "metadata": {},
   "source": [
    "d) Computes the circumference and the area of a circle given the radius"
   ]
  },
  {
   "cell_type": "code",
   "execution_count": 30,
   "metadata": {},
   "outputs": [],
   "source": [
    "from math import pi\n",
    "def cercle(r):\n",
    "    r = float(r)\n",
    "    circumference = 2*pi*r\n",
    "    area = pi*r**2\n",
    "    print('la circonference du cercle est:',circumference)\n",
    "    print(\"l'aire du cercle:\",area)"
   ]
  },
  {
   "cell_type": "code",
   "execution_count": 31,
   "metadata": {},
   "outputs": [
    {
     "name": "stdout",
     "output_type": "stream",
     "text": [
      "la circonference du cercle est: 25.132741228718345\n",
      "l'aire du cercle: 50.26548245743669\n"
     ]
    }
   ],
   "source": [
    "cercle(4)"
   ]
  },
  {
   "cell_type": "markdown",
   "metadata": {},
   "source": [
    "4. Write functions that do the following:"
   ]
  },
  {
   "cell_type": "markdown",
   "metadata": {},
   "source": [
    "a) Given two numbers, compute their average and geometrical mean and prints them. Now write a program that performs this process 10 times, taking as input the means computed in the previous step. Name this function avggeom."
   ]
  },
  {
   "cell_type": "code",
   "execution_count": 33,
   "metadata": {},
   "outputs": [],
   "source": [
    "def avggeom(a,b):\n",
    "    a = float(a)\n",
    "    b = float(b)\n",
    "    l=[a,b]\n",
    "    print(geometric_mean(l))\n",
    "    print(mean(l))"
   ]
  },
  {
   "cell_type": "markdown",
   "metadata": {},
   "source": [
    "b) Write a function that computes the distance between two points in the plane. Use it in another program that computes the perimeter and the area of a triangle, given three points in the plane. Name this function distancefn."
   ]
  },
  {
   "cell_type": "code",
   "execution_count": 38,
   "metadata": {},
   "outputs": [],
   "source": [
    "from math import sqrt\n",
    "def distance(x1,x2,y1,y2):\n",
    "    x1 = float(x1)\n",
    "    x2 = float(x2)\n",
    "    y1 = float(y1)\n",
    "    y2 = float(y2)\n",
    "    AB = sqrt((x1 - y1)**2 +(x2-y2)**2)\n",
    "    return AB\n",
    "\n",
    "    "
   ]
  },
  {
   "cell_type": "code",
   "execution_count": 39,
   "metadata": {},
   "outputs": [
    {
     "data": {
      "text/plain": [
       "2.8284271247461903"
      ]
     },
     "execution_count": 39,
     "metadata": {},
     "output_type": "execute_result"
    }
   ],
   "source": [
    "distance(3,4,5,6)"
   ]
  },
  {
   "cell_type": "code",
   "execution_count": 44,
   "metadata": {},
   "outputs": [],
   "source": [
    "def distancefn():\n",
    "    x1 = int(input(\"Donner la valeur de l'adscisse du point A :\"))\n",
    "    x2 = int(input(\"Donner la valeur de l'ordonnée du point A :\"))\n",
    "    y1 = int(input(\"Donner la valeur de l'ordonnée du point B :\"))\n",
    "    y2 = int(input(\"Donner la valeur de l'ordonnée du point B :\"))\n",
    "    z1 = int(input(\"Donner la valeur de l'ordonnée du point C :\"))\n",
    "    z2 = int(input(\"Donner la valeur de l'ordonnée du point C :\"))\n",
    "    P=distance(x1,x2,y1,y2)+distance(x1,x2,z1,z2)+distance(y1,y2,z1,z2)\n",
    "    A=P*(P-distance(x1,x2,y1,y2))*(P-distance(x1,x2,z1,z2))*(P-distance(y1,y2,z1,z2))\n",
    "    print(\"le périmetre du triangle formé par les points a, b et c est de :\",P,\"metres\")\n",
    "    print(\"la surface du triangle formé par les points a, b et c est de :\",A,\"metre carre\")"
   ]
  },
  {
   "cell_type": "code",
   "execution_count": 45,
   "metadata": {},
   "outputs": [
    {
     "name": "stdout",
     "output_type": "stream",
     "text": [
      "Donner la valeur de l'adscisse du point A :4\n",
      "Donner la valeur de l'ordonnée du point A :5\n",
      "Donner la valeur de l'ordonnée du point B :6\n",
      "Donner la valeur de l'ordonnée du point B :5\n",
      "Donner la valeur de l'ordonnée du point C :7\n",
      "Donner la valeur de l'ordonnée du point C :7\n",
      "le périmetre du triangle formé par les points a, b et c est de : 7.841619252963779 metres\n",
      "la surface du triangle formé par les points a, b et c est de : 1087.7278510814604 metre carre\n"
     ]
    }
   ],
   "source": [
    "distancefn()"
   ]
  },
  {
   "cell_type": "markdown",
   "metadata": {},
   "source": [
    "##### "
   ]
  },
  {
   "cell_type": "markdown",
   "metadata": {},
   "source": [
    "Write a program that offers three options to the user:\n",
    "1.Evaluation of actorial\n",
    "\n",
    "2.Evaluation of a second degree equation\n",
    "\n",
    "3.Exit\n",
    "\n",
    "The user selects one of the options and then the program requests the data needed and calls the corresponding function to produce a result. The program then repeats the process until the user says he wants to exit. Name this function fact2nddeg."
   ]
  },
  {
   "cell_type": "code",
   "execution_count": null,
   "metadata": {},
   "outputs": [],
   "source": [
    "def fact2nddeg():\n",
    "        while 1: # 1 est toujours vrai -> boucle infinie\n",
    "                lettre = input (\" Si vous voulez quittrer, Tapez 'q' sinon tapper autre chose: \")\n",
    "                if lettre == \"q\":\n",
    "                    print (\"Merci da bien vouloir quitter \")\n",
    "                    break\n",
    "                else:\n",
    "                    n = int(input(\"Donner un entier n:\")) \n",
    "                    for i in range(1,n):\n",
    "                        n *= i\n",
    "                    print(n)\n",
    "                    print(\"Equotion du second degre\")\n",
    "                    a = float(input(\"Donner la valeur du coefficient a :\"))\n",
    "                    b = float(input(\"Donner la valeur du coefficient b :\"))\n",
    "                    c = float(input(\"Donner la valeur du coefficient c :\"))\n",
    "                    D = b**2 -4*a*c\n",
    "                    if D < 0:\n",
    "                        print(\"l'equation n'a pas de solutions\")\n",
    "                    elif D == 0:\n",
    "                        X0 = -b/(2*a)\n",
    "                        print(\"l'equation a une solution double: x =\", X0)\n",
    "                    else:\n",
    "                        d = sqrt(D)\n",
    "                        X1 = (-b-d)/2*a\n",
    "                        X2 = (-b+d)/2*a\n",
    "                        print(\"l'equation a deux solutions: X1=\",X1,\"et X2 =\",X2)\n",
    "        "
   ]
  },
  {
   "cell_type": "markdown",
   "metadata": {},
   "source": [
    "6. For a fixed real number $x$ and a natural number $n$, we can define recursively $x^n$ using the\n",
    "relations:\n",
    "$x^0 = 1$ and $x^{n+1} = x*x^n$:\n",
    "Write a function power(x,n) that implements the above recursion."
   ]
  },
  {
   "cell_type": "code",
   "execution_count": 46,
   "metadata": {},
   "outputs": [],
   "source": [
    "def power():\n",
    "    x = int(input(\"Donner un entier fixe :\"))\n",
    "    n = int(input(\"Donner l'ordre de la puissence :\"))\n",
    "    b = x\n",
    "    for i in range(n-1):\n",
    "        b*=x\n",
    "    print(x,\"puissence\",n,\"donne\",b)"
   ]
  },
  {
   "cell_type": "markdown",
   "metadata": {},
   "source": [
    "7. Write code that implements the Fibonacci sequence. Test your program at 100."
   ]
  },
  {
   "cell_type": "code",
   "execution_count": 47,
   "metadata": {},
   "outputs": [],
   "source": [
    "def Fibonacci():\n",
    "    S_0 = int(input(\"Donner la premiere valeur\"))\n",
    "    S_1 = int(input(\"Donner la deuxieme valeur\"))\n",
    "    S_2 = S_0+S_1\n",
    "    S = [S_0,S_1,S_2]\n",
    "    for i in range(100-3):\n",
    "        S_0 = S_1\n",
    "        S_1 = S_2\n",
    "        S_2 = S_0 + S_1\n",
    "        S.append(S_2)\n",
    "    print(len(S))\n",
    "    print(S)"
   ]
  },
  {
   "cell_type": "code",
   "execution_count": null,
   "metadata": {},
   "outputs": [],
   "source": []
  }
 ],
 "metadata": {
  "kernelspec": {
   "display_name": "Python 3",
   "language": "python",
   "name": "python3"
  },
  "language_info": {
   "codemirror_mode": {
    "name": "ipython",
    "version": 3
   },
   "file_extension": ".py",
   "mimetype": "text/x-python",
   "name": "python",
   "nbconvert_exporter": "python",
   "pygments_lexer": "ipython3",
   "version": "3.8.5"
  }
 },
 "nbformat": 4,
 "nbformat_minor": 4
}
