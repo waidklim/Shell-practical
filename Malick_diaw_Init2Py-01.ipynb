{
 "cells": [
  {
   "cell_type": "markdown",
   "metadata": {},
   "source": [
    "## 1 Summations and Products"
   ]
  },
  {
   "cell_type": "markdown",
   "metadata": {},
   "source": [
    "1. Compute the following expressions for a natural number n chosen by the user:"
   ]
  },
  {
   "cell_type": "code",
   "execution_count": 2,
   "metadata": {},
   "outputs": [],
   "source": [
    "def somme(n):\n",
    "    v=0\n",
    "    for i in range(n):\n",
    "        if i%2!=0:\n",
    "            v=v+i+3\n",
    "    print(v)   "
   ]
  },
  {
   "cell_type": "code",
   "execution_count": 3,
   "metadata": {},
   "outputs": [
    {
     "name": "stdout",
     "output_type": "stream",
     "text": [
      "10\n"
     ]
    }
   ],
   "source": [
    "somme(5)"
   ]
  },
  {
   "cell_type": "code",
   "execution_count": 6,
   "metadata": {},
   "outputs": [],
   "source": [
    "def product(n):\n",
    "    v=1\n",
    "    for i in range(n):\n",
    "        if i%2!=0:\n",
    "            v=v*(i+3)\n",
    "    print(v)  "
   ]
  },
  {
   "cell_type": "code",
   "execution_count": 7,
   "metadata": {},
   "outputs": [
    {
     "name": "stdout",
     "output_type": "stream",
     "text": [
      "24\n"
     ]
    }
   ],
   "source": [
    "product(5)"
   ]
  },
  {
   "cell_type": "markdown",
   "metadata": {},
   "source": [
    "2. Write a program that reads the number of the day of the week (from 0 to 6). If it is a\n",
    "working day, then the program will write the name of the corresponding day. Otherwise,\n",
    "it will write the word \"Weekend\"."
   ]
  },
  {
   "cell_type": "code",
   "execution_count": 14,
   "metadata": {},
   "outputs": [
    {
     "name": "stdout",
     "output_type": "stream",
     "text": [
      "donner le numero du jour de 0 a 6\n",
      "5\n",
      "Weekend\n"
     ]
    }
   ],
   "source": [
    "print('donner le numero du jour de 0 a 6')\n",
    "a=input()\n",
    "a=int(a)\n",
    "l=['lundi','mardi','mercredi','jeudi','vendredi','samdi','dimanche']\n",
    "if a==5 or a==6:\n",
    "    print('Weekend')\n",
    "else:\n",
    "    print(l[a])"
   ]
  },
  {
   "cell_type": "markdown",
   "metadata": {},
   "source": [
    "3. Make a program that, given a month number (from 0 to 11), indicates how many days it\n",
    "has (28, 30 or 31), ignoring the leap years."
   ]
  },
  {
   "cell_type": "code",
   "execution_count": 15,
   "metadata": {},
   "outputs": [
    {
     "name": "stdout",
     "output_type": "stream",
     "text": [
      "donner le numero du mois de 0 a 11\n",
      "5\n",
      "30 jours\n"
     ]
    }
   ],
   "source": [
    "print('donner le numero du mois de 0 a 11')\n",
    "a=input()\n",
    "a=int(a)\n",
    "l=['janvier','fevrier','mars','avril','mais','juin','juillet','aout','septembre','octobre','novembre','decembre']\n",
    "if a==0 or a==2 or a==4 or a==6 or a==7 or a==9 or a==11:\n",
    "    print('31 jours')\n",
    "elif a==1:\n",
    "    print('28 jours')\n",
    "else:\n",
    "    print('30 jours')"
   ]
  },
  {
   "cell_type": "markdown",
   "metadata": {},
   "source": [
    "4. Write two versions of python code that displays your name 3 times. One version with a\n",
    "\"for loop\" and another version with a \"while loop\"."
   ]
  },
  {
   "cell_type": "code",
   "execution_count": 16,
   "metadata": {},
   "outputs": [
    {
     "name": "stdout",
     "output_type": "stream",
     "text": [
      "malick DIAW\n",
      "malick DIAW\n",
      "malick DIAW\n"
     ]
    }
   ],
   "source": [
    "for i in range(3):\n",
    "    print('malick DIAW')"
   ]
  },
  {
   "cell_type": "code",
   "execution_count": 18,
   "metadata": {},
   "outputs": [
    {
     "name": "stdout",
     "output_type": "stream",
     "text": [
      "malick DIAW\n",
      "malick DIAW\n",
      "malick DIAW\n"
     ]
    }
   ],
   "source": [
    "i=0\n",
    "while i<3:\n",
    "    print('malick DIAW')\n",
    "    i=i+1"
   ]
  },
  {
   "cell_type": "markdown",
   "metadata": {},
   "source": [
    "5. Given two numbers a0 and a1, the Fibonacci sequence they generate is constructed from\n",
    "the recursion formula an+1 = an + an􀀀1. Calculate the first 15 terms of a Fibonacci\n",
    "sequence, asking the user the initial values."
   ]
  },
  {
   "cell_type": "code",
   "execution_count": 23,
   "metadata": {},
   "outputs": [
    {
     "name": "stdout",
     "output_type": "stream",
     "text": [
      "donner a0\n",
      "4\n",
      "donner a1\n",
      "5\n",
      "les 15 premier termes sont:\n",
      "4\n",
      "5\n",
      "9\n",
      "14\n",
      "23\n",
      "37\n",
      "60\n",
      "97\n",
      "157\n",
      "254\n",
      "411\n",
      "665\n",
      "1076\n",
      "1741\n",
      "2817\n"
     ]
    }
   ],
   "source": [
    "print('donner a0')\n",
    "a0=input()\n",
    "a0=int(a0)\n",
    "print('donner a1')\n",
    "a1=input()\n",
    "a1=int(a1)\n",
    "print('les 15 premier termes sont:')\n",
    "print(a0)\n",
    "print(a1)\n",
    "for i in range(13):\n",
    "    v=a0+a1\n",
    "    a0=a1\n",
    "    a1=v\n",
    "    print(v)"
   ]
  },
  {
   "cell_type": "markdown",
   "metadata": {},
   "source": [
    "6. Compute the first 30 terms of the sequence defined by 2xn+2 􀀀 xn+1 􀀀 6xn = 0 sequence,\n",
    "given any two initial values x0 and x1\n",
    "1"
   ]
  },
  {
   "cell_type": "code",
   "execution_count": 24,
   "metadata": {},
   "outputs": [
    {
     "name": "stdout",
     "output_type": "stream",
     "text": [
      "donner a0\n",
      "1\n",
      "donner a1\n",
      "2\n",
      "les 30 premier termes sont:\n",
      "1\n",
      "2\n",
      "4.0\n",
      "8.0\n",
      "16.0\n",
      "32.0\n",
      "64.0\n",
      "128.0\n",
      "256.0\n",
      "512.0\n",
      "1024.0\n",
      "2048.0\n",
      "4096.0\n",
      "8192.0\n",
      "16384.0\n",
      "32768.0\n",
      "65536.0\n",
      "131072.0\n",
      "262144.0\n",
      "524288.0\n",
      "1048576.0\n",
      "2097152.0\n",
      "4194304.0\n",
      "8388608.0\n",
      "16777216.0\n",
      "33554432.0\n",
      "67108864.0\n",
      "134217728.0\n",
      "268435456.0\n",
      "536870912.0\n"
     ]
    }
   ],
   "source": [
    "print('donner a0')\n",
    "a0=input()\n",
    "a0=int(a0)\n",
    "print('donner a1')\n",
    "a1=input()\n",
    "a1=int(a1)\n",
    "print('les 30 premier termes sont:')\n",
    "print(a0)\n",
    "print(a1)\n",
    "for i in range(28):\n",
    "    v=3*a0+a1/2\n",
    "    a0=a1\n",
    "    a1=v\n",
    "    print(v)"
   ]
  },
  {
   "cell_type": "markdown",
   "metadata": {},
   "source": [
    "7. a) Write python code to determine whether or not a year is a leap year. Be sure you\n",
    "know what a leap year is."
   ]
  },
  {
   "cell_type": "code",
   "execution_count": 27,
   "metadata": {},
   "outputs": [
    {
     "name": "stdout",
     "output_type": "stream",
     "text": [
      "donner l'annee\n",
      "2000\n",
      "2000 is not a leap year\n"
     ]
    }
   ],
   "source": [
    "print(\"donner l'annee\")\n",
    "a=input()\n",
    "a=int(a)\n",
    "if a%4==0 and a%100!=0:\n",
    "    print(a,'is a leap year')\n",
    "else :\n",
    "    print(a,'is not a leap year')"
   ]
  },
  {
   "cell_type": "markdown",
   "metadata": {},
   "source": [
    "b) Write the code using only logical operators, i.e. no conditional branching."
   ]
  },
  {
   "cell_type": "code",
   "execution_count": null,
   "metadata": {},
   "outputs": [],
   "source": []
  }
 ],
 "metadata": {
  "kernelspec": {
   "display_name": "Python 3",
   "language": "python",
   "name": "python3"
  },
  "language_info": {
   "codemirror_mode": {
    "name": "ipython",
    "version": 3
   },
   "file_extension": ".py",
   "mimetype": "text/x-python",
   "name": "python",
   "nbconvert_exporter": "python",
   "pygments_lexer": "ipython3",
   "version": "3.7.3"
  }
 },
 "nbformat": 4,
 "nbformat_minor": 2
}
